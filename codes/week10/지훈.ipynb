{
 "cells": [
  {
   "cell_type": "markdown",
   "metadata": {},
   "source": [
    "### 지훈이의 타이타닉 모델 만들기 대작전!- 데이터셋 보기, 대략적으로\n"
   ]
  },
  {
   "cell_type": "code",
   "execution_count": 86,
   "metadata": {},
   "outputs": [],
   "source": [
    "import pandas as pd\n",
    "import numpy as np\n",
    "import copy"
   ]
  },
  {
   "cell_type": "code",
   "execution_count": 87,
   "metadata": {},
   "outputs": [],
   "source": [
    "df_train_raw = pd.read_csv(\"train.csv\")\n",
    "df_test_raw = pd.read_csv(\"test.csv\")\n",
    "\n",
    "# 파일에서 읽어온 값들을 깊은 복사로 새로 객체를 만들어서 문제가 생기면 코드를 위의 원본데이터를 재활용한다.\n",
    "df_train = copy.copy(df_train_raw)\n",
    "df_test = copy.copy(df_test_raw)"
   ]
  },
  {
   "cell_type": "code",
   "execution_count": 88,
   "metadata": {},
   "outputs": [
    {
     "data": {
      "text/plain": [
       "array([[1, 0, 3, 'Braund, Mr. Owen Harris', 'male', 22.0, 1, 0,\n",
       "        'A/5 21171', 7.25, nan, 'S'],\n",
       "       [2, 1, 1, 'Cumings, Mrs. John Bradley (Florence Briggs Thayer)',\n",
       "        'female', 38.0, 1, 0, 'PC 17599', 71.2833, 'C85', 'C'],\n",
       "       [3, 1, 3, 'Heikkinen, Miss. Laina', 'female', 26.0, 0, 0,\n",
       "        'STON/O2. 3101282', 7.925, nan, 'S'],\n",
       "       [4, 1, 1, 'Futrelle, Mrs. Jacques Heath (Lily May Peel)',\n",
       "        'female', 35.0, 1, 0, '113803', 53.1, 'C123', 'S'],\n",
       "       [5, 0, 3, 'Allen, Mr. William Henry', 'male', 35.0, 0, 0,\n",
       "        '373450', 8.05, nan, 'S']], dtype=object)"
      ]
     },
     "execution_count": 88,
     "metadata": {},
     "output_type": "execute_result"
    }
   ],
   "source": [
    "df_train.head().values"
   ]
  },
  {
   "cell_type": "code",
   "execution_count": 89,
   "metadata": {},
   "outputs": [
    {
     "data": {
      "text/plain": [
       "Index(['PassengerId', 'Survived', 'Pclass', 'Name', 'Sex', 'Age', 'SibSp',\n",
       "       'Parch', 'Ticket', 'Fare', 'Cabin', 'Embarked'],\n",
       "      dtype='object')"
      ]
     },
     "execution_count": 89,
     "metadata": {},
     "output_type": "execute_result"
    }
   ],
   "source": [
    "df_train.columns"
   ]
  },
  {
   "cell_type": "code",
   "execution_count": 90,
   "metadata": {},
   "outputs": [
    {
     "data": {
      "text/html": [
       "<div>\n",
       "<style scoped>\n",
       "    .dataframe tbody tr th:only-of-type {\n",
       "        vertical-align: middle;\n",
       "    }\n",
       "\n",
       "    .dataframe tbody tr th {\n",
       "        vertical-align: top;\n",
       "    }\n",
       "\n",
       "    .dataframe thead th {\n",
       "        text-align: right;\n",
       "    }\n",
       "</style>\n",
       "<table border=\"1\" class=\"dataframe\">\n",
       "  <thead>\n",
       "    <tr style=\"text-align: right;\">\n",
       "      <th></th>\n",
       "      <th>PassengerId</th>\n",
       "      <th>Pclass</th>\n",
       "      <th>Name</th>\n",
       "      <th>Sex</th>\n",
       "      <th>Age</th>\n",
       "      <th>SibSp</th>\n",
       "      <th>Parch</th>\n",
       "      <th>Ticket</th>\n",
       "      <th>Fare</th>\n",
       "      <th>Cabin</th>\n",
       "      <th>Embarked</th>\n",
       "    </tr>\n",
       "  </thead>\n",
       "  <tbody>\n",
       "    <tr>\n",
       "      <th>0</th>\n",
       "      <td>892</td>\n",
       "      <td>3</td>\n",
       "      <td>Kelly, Mr. James</td>\n",
       "      <td>male</td>\n",
       "      <td>34.5</td>\n",
       "      <td>0</td>\n",
       "      <td>0</td>\n",
       "      <td>330911</td>\n",
       "      <td>7.8292</td>\n",
       "      <td>NaN</td>\n",
       "      <td>Q</td>\n",
       "    </tr>\n",
       "    <tr>\n",
       "      <th>1</th>\n",
       "      <td>893</td>\n",
       "      <td>3</td>\n",
       "      <td>Wilkes, Mrs. James (Ellen Needs)</td>\n",
       "      <td>female</td>\n",
       "      <td>47.0</td>\n",
       "      <td>1</td>\n",
       "      <td>0</td>\n",
       "      <td>363272</td>\n",
       "      <td>7.0000</td>\n",
       "      <td>NaN</td>\n",
       "      <td>S</td>\n",
       "    </tr>\n",
       "    <tr>\n",
       "      <th>2</th>\n",
       "      <td>894</td>\n",
       "      <td>2</td>\n",
       "      <td>Myles, Mr. Thomas Francis</td>\n",
       "      <td>male</td>\n",
       "      <td>62.0</td>\n",
       "      <td>0</td>\n",
       "      <td>0</td>\n",
       "      <td>240276</td>\n",
       "      <td>9.6875</td>\n",
       "      <td>NaN</td>\n",
       "      <td>Q</td>\n",
       "    </tr>\n",
       "    <tr>\n",
       "      <th>3</th>\n",
       "      <td>895</td>\n",
       "      <td>3</td>\n",
       "      <td>Wirz, Mr. Albert</td>\n",
       "      <td>male</td>\n",
       "      <td>27.0</td>\n",
       "      <td>0</td>\n",
       "      <td>0</td>\n",
       "      <td>315154</td>\n",
       "      <td>8.6625</td>\n",
       "      <td>NaN</td>\n",
       "      <td>S</td>\n",
       "    </tr>\n",
       "    <tr>\n",
       "      <th>4</th>\n",
       "      <td>896</td>\n",
       "      <td>3</td>\n",
       "      <td>Hirvonen, Mrs. Alexander (Helga E Lindqvist)</td>\n",
       "      <td>female</td>\n",
       "      <td>22.0</td>\n",
       "      <td>1</td>\n",
       "      <td>1</td>\n",
       "      <td>3101298</td>\n",
       "      <td>12.2875</td>\n",
       "      <td>NaN</td>\n",
       "      <td>S</td>\n",
       "    </tr>\n",
       "  </tbody>\n",
       "</table>\n",
       "</div>"
      ],
      "text/plain": [
       "   PassengerId  Pclass                                          Name     Sex  \\\n",
       "0          892       3                              Kelly, Mr. James    male   \n",
       "1          893       3              Wilkes, Mrs. James (Ellen Needs)  female   \n",
       "2          894       2                     Myles, Mr. Thomas Francis    male   \n",
       "3          895       3                              Wirz, Mr. Albert    male   \n",
       "4          896       3  Hirvonen, Mrs. Alexander (Helga E Lindqvist)  female   \n",
       "\n",
       "    Age  SibSp  Parch   Ticket     Fare Cabin Embarked  \n",
       "0  34.5      0      0   330911   7.8292   NaN        Q  \n",
       "1  47.0      1      0   363272   7.0000   NaN        S  \n",
       "2  62.0      0      0   240276   9.6875   NaN        Q  \n",
       "3  27.0      0      0   315154   8.6625   NaN        S  \n",
       "4  22.0      1      1  3101298  12.2875   NaN        S  "
      ]
     },
     "execution_count": 90,
     "metadata": {},
     "output_type": "execute_result"
    }
   ],
   "source": [
    "df_test.head()"
   ]
  },
  {
   "cell_type": "code",
   "execution_count": 91,
   "metadata": {},
   "outputs": [
    {
     "name": "stdout",
     "output_type": "stream",
     "text": [
      "---train set data---\n",
      "PassengerId      0\n",
      "Survived         0\n",
      "Pclass           0\n",
      "Name             0\n",
      "Sex              0\n",
      "Age            177\n",
      "SibSp            0\n",
      "Parch            0\n",
      "Ticket           0\n",
      "Fare             0\n",
      "Cabin          687\n",
      "Embarked         2\n",
      "dtype: int64\n",
      "데이터 shape :(891, 12)\n",
      "\n"
     ]
    }
   ],
   "source": [
    "print(\"---train set data---\")\n",
    "print(df_train.isnull().sum())\n",
    "print(\"데이터 shape :\", end='')\n",
    "print(df_train.shape)\n",
    "print()\n"
   ]
  },
  {
   "cell_type": "code",
   "execution_count": 92,
   "metadata": {},
   "outputs": [
    {
     "name": "stdout",
     "output_type": "stream",
     "text": [
      "---test set data---\n",
      "PassengerId      0\n",
      "Pclass           0\n",
      "Name             0\n",
      "Sex              0\n",
      "Age             86\n",
      "SibSp            0\n",
      "Parch            0\n",
      "Ticket           0\n",
      "Fare             1\n",
      "Cabin          327\n",
      "Embarked         0\n",
      "dtype: int64\n",
      "데이터 shape :(418, 11)\n",
      "\n"
     ]
    }
   ],
   "source": [
    "print(\"---test set data---\")\n",
    "print(df_test.isnull().sum())\n",
    "print(\"데이터 shape :\", end='')\n",
    "print(df_test.shape)\n",
    "print()"
   ]
  },
  {
   "cell_type": "markdown",
   "metadata": {},
   "source": [
    "### 데이터 전처리 - 테스트데이터는 행 만지지마라"
   ]
  },
  {
   "cell_type": "code",
   "execution_count": 93,
   "metadata": {},
   "outputs": [],
   "source": [
    "# 'Age', 'Cabin' 열 제거 \n",
    "df_train = df_train.drop(columns=[ 'Age', 'Cabin'])\n",
    "df_test = df_test.drop(columns=[ 'Age', 'Cabin'])"
   ]
  },
  {
   "cell_type": "markdown",
   "metadata": {},
   "source": [
    "너네들이 전략을 세울거 아니야 아 일단 알아서 해 자 그러니까 그냥 마셔라\n",
    "제일 먼저 상관관계 큰거 찾기- 수치형 모델 선택\n",
    "최소한 0.5 이상이 1개는 있어야 된다\n",
    "\n",
    "등급에 대한 상관관계 있음"
   ]
  },
  {
   "cell_type": "code",
   "execution_count": 94,
   "metadata": {},
   "outputs": [],
   "source": [
    "# 'Embarked' 결측치를 최빈값으로 채우기\n",
    "most_common_embarked = df_train['Embarked'].mode()[0]\n",
    "df_train['Embarked'] = df_train['Embarked'].fillna(most_common_embarked)\n"
   ]
  },
  {
   "cell_type": "code",
   "execution_count": 95,
   "metadata": {},
   "outputs": [],
   "source": [
    "# 'Fare' 결측치를 중앙값으로 채우기\n",
    "median_fare = df_test['Fare'].median()\n",
    "df_test['Fare'] = df_test['Fare'].fillna(median_fare)\n"
   ]
  },
  {
   "cell_type": "code",
   "execution_count": 96,
   "metadata": {},
   "outputs": [
    {
     "name": "stdout",
     "output_type": "stream",
     "text": [
      "---train set data (after filling missing values)---\n",
      "PassengerId    0\n",
      "Survived       0\n",
      "Pclass         0\n",
      "Name           0\n",
      "Sex            0\n",
      "SibSp          0\n",
      "Parch          0\n",
      "Ticket         0\n",
      "Fare           0\n",
      "Embarked       0\n",
      "dtype: int64\n",
      "---test set data (after filling missing values)---\n",
      "PassengerId    0\n",
      "Pclass         0\n",
      "Name           0\n",
      "Sex            0\n",
      "SibSp          0\n",
      "Parch          0\n",
      "Ticket         0\n",
      "Fare           0\n",
      "Embarked       0\n",
      "dtype: int64\n"
     ]
    }
   ],
   "source": [
    "print(\"---train set data (after filling missing values)---\")\n",
    "print(df_train.isnull().sum())\n",
    "print(\"---test set data (after filling missing values)---\")\n",
    "print(df_test.isnull().sum())\n"
   ]
  },
  {
   "cell_type": "markdown",
   "metadata": {},
   "source": [
    "### 인코딩하기- 데이터 전처리의 꽃"
   ]
  },
  {
   "cell_type": "code",
   "execution_count": 97,
   "metadata": {},
   "outputs": [
    {
     "name": "stdout",
     "output_type": "stream",
     "text": [
      "                                                Name  Title\n",
      "0                            Braund, Mr. Owen Harris      3\n",
      "1  Cumings, Mrs. John Bradley (Florence Briggs Th...      4\n",
      "2                             Heikkinen, Miss. Laina      2\n",
      "3       Futrelle, Mrs. Jacques Heath (Lily May Peel)      4\n",
      "4                           Allen, Mr. William Henry      3\n",
      "                                           Name  Title\n",
      "0                              Kelly, Mr. James      3\n",
      "1              Wilkes, Mrs. James (Ellen Needs)      4\n",
      "2                     Myles, Mr. Thomas Francis      3\n",
      "3                              Wirz, Mr. Albert      3\n",
      "4  Hirvonen, Mrs. Alexander (Helga E Lindqvist)      4\n"
     ]
    }
   ],
   "source": [
    "from sklearn.preprocessing import LabelEncoder\n",
    "\n",
    "# 'Name'에서 호칭 추출 함수\n",
    "def extract_title(name):\n",
    "    return name.split(',')[1].split('.')[0].strip()\n",
    "\n",
    "# 'Name'에서 호칭 추출\n",
    "df_train['Title'] = df_train['Name'].apply(extract_title)\n",
    "df_test['Title'] = df_test['Name'].apply(extract_title)\n",
    "\n",
    "# 희귀 호칭을 'Rare'로 묶기\n",
    "def replace_rare_titles(df, threshold=5):\n",
    "    title_counts = df['Title'].value_counts()\n",
    "    rare_titles = title_counts[title_counts <= threshold].index\n",
    "    df['Title'] = df['Title'].replace(rare_titles, 'Rare')\n",
    "\n",
    "replace_rare_titles(df_train)\n",
    "replace_rare_titles(df_test)\n",
    "\n",
    "# 라벨 인코딩\n",
    "label_encoder = LabelEncoder()\n",
    "df_train['Title'] = label_encoder.fit_transform(df_train['Title'])\n",
    "df_test['Title'] = label_encoder.transform(df_test['Title'])\n",
    "\n",
    "# 결과 확인\n",
    "print(df_train[['Name', 'Title']].head())\n",
    "print(df_test[['Name', 'Title']].head())\n"
   ]
  },
  {
   "cell_type": "code",
   "execution_count": 98,
   "metadata": {},
   "outputs": [
    {
     "name": "stdout",
     "output_type": "stream",
     "text": [
      "   PassengerId  Survived  Pclass  SibSp  Parch     Fare  Title  Sex_male  \\\n",
      "0            1         0       3      1      0   7.2500      3      True   \n",
      "1            2         1       1      1      0  71.2833      4     False   \n",
      "2            3         1       3      0      0   7.9250      2     False   \n",
      "3            4         1       1      1      0  53.1000      4     False   \n",
      "4            5         0       3      0      0   8.0500      3      True   \n",
      "\n",
      "   Embarked_Q  Embarked_S  \n",
      "0       False        True  \n",
      "1       False       False  \n",
      "2       False        True  \n",
      "3       False        True  \n",
      "4       False        True  \n",
      "   PassengerId  Pclass  SibSp  Parch     Fare  Title  Sex_male  Embarked_Q  \\\n",
      "0          892       3      0      0   7.8292      3      True        True   \n",
      "1          893       3      1      0   7.0000      4     False       False   \n",
      "2          894       2      0      0   9.6875      3      True        True   \n",
      "3          895       3      0      0   8.6625      3      True       False   \n",
      "4          896       3      1      1  12.2875      4     False       False   \n",
      "\n",
      "   Embarked_S  \n",
      "0       False  \n",
      "1        True  \n",
      "2       False  \n",
      "3        True  \n",
      "4        True  \n"
     ]
    }
   ],
   "source": [
    "# 'Sex'와 'Embarked' 원핫 인코딩\n",
    "df_train = pd.get_dummies(df_train, columns=['Sex', 'Embarked'], drop_first=True)\n",
    "df_test = pd.get_dummies(df_test, columns=['Sex', 'Embarked'], drop_first=True)\n",
    "\n",
    "# 'Name', 'Ticket', 'Cabin' 열 삭제\n",
    "df_train = df_train.drop(columns=['Name', 'Ticket'])\n",
    "df_test = df_test.drop(columns=['Name', 'Ticket'])\n",
    "\n",
    "# 결과 확인\n",
    "print(df_train.head())\n",
    "print(df_test.head())\n"
   ]
  },
  {
   "cell_type": "code",
   "execution_count": 99,
   "metadata": {},
   "outputs": [
    {
     "data": {
      "text/html": [
       "<div>\n",
       "<style scoped>\n",
       "    .dataframe tbody tr th:only-of-type {\n",
       "        vertical-align: middle;\n",
       "    }\n",
       "\n",
       "    .dataframe tbody tr th {\n",
       "        vertical-align: top;\n",
       "    }\n",
       "\n",
       "    .dataframe thead th {\n",
       "        text-align: right;\n",
       "    }\n",
       "</style>\n",
       "<table border=\"1\" class=\"dataframe\">\n",
       "  <thead>\n",
       "    <tr style=\"text-align: right;\">\n",
       "      <th></th>\n",
       "      <th>PassengerId</th>\n",
       "      <th>Survived</th>\n",
       "      <th>Pclass</th>\n",
       "      <th>SibSp</th>\n",
       "      <th>Parch</th>\n",
       "      <th>Fare</th>\n",
       "      <th>Title</th>\n",
       "      <th>Sex_male</th>\n",
       "      <th>Embarked_Q</th>\n",
       "      <th>Embarked_S</th>\n",
       "    </tr>\n",
       "  </thead>\n",
       "  <tbody>\n",
       "    <tr>\n",
       "      <th>0</th>\n",
       "      <td>1</td>\n",
       "      <td>0</td>\n",
       "      <td>3</td>\n",
       "      <td>1</td>\n",
       "      <td>0</td>\n",
       "      <td>7.2500</td>\n",
       "      <td>3</td>\n",
       "      <td>True</td>\n",
       "      <td>False</td>\n",
       "      <td>True</td>\n",
       "    </tr>\n",
       "    <tr>\n",
       "      <th>1</th>\n",
       "      <td>2</td>\n",
       "      <td>1</td>\n",
       "      <td>1</td>\n",
       "      <td>1</td>\n",
       "      <td>0</td>\n",
       "      <td>71.2833</td>\n",
       "      <td>4</td>\n",
       "      <td>False</td>\n",
       "      <td>False</td>\n",
       "      <td>False</td>\n",
       "    </tr>\n",
       "    <tr>\n",
       "      <th>2</th>\n",
       "      <td>3</td>\n",
       "      <td>1</td>\n",
       "      <td>3</td>\n",
       "      <td>0</td>\n",
       "      <td>0</td>\n",
       "      <td>7.9250</td>\n",
       "      <td>2</td>\n",
       "      <td>False</td>\n",
       "      <td>False</td>\n",
       "      <td>True</td>\n",
       "    </tr>\n",
       "    <tr>\n",
       "      <th>3</th>\n",
       "      <td>4</td>\n",
       "      <td>1</td>\n",
       "      <td>1</td>\n",
       "      <td>1</td>\n",
       "      <td>0</td>\n",
       "      <td>53.1000</td>\n",
       "      <td>4</td>\n",
       "      <td>False</td>\n",
       "      <td>False</td>\n",
       "      <td>True</td>\n",
       "    </tr>\n",
       "    <tr>\n",
       "      <th>4</th>\n",
       "      <td>5</td>\n",
       "      <td>0</td>\n",
       "      <td>3</td>\n",
       "      <td>0</td>\n",
       "      <td>0</td>\n",
       "      <td>8.0500</td>\n",
       "      <td>3</td>\n",
       "      <td>True</td>\n",
       "      <td>False</td>\n",
       "      <td>True</td>\n",
       "    </tr>\n",
       "  </tbody>\n",
       "</table>\n",
       "</div>"
      ],
      "text/plain": [
       "   PassengerId  Survived  Pclass  SibSp  Parch     Fare  Title  Sex_male  \\\n",
       "0            1         0       3      1      0   7.2500      3      True   \n",
       "1            2         1       1      1      0  71.2833      4     False   \n",
       "2            3         1       3      0      0   7.9250      2     False   \n",
       "3            4         1       1      1      0  53.1000      4     False   \n",
       "4            5         0       3      0      0   8.0500      3      True   \n",
       "\n",
       "   Embarked_Q  Embarked_S  \n",
       "0       False        True  \n",
       "1       False       False  \n",
       "2       False        True  \n",
       "3       False        True  \n",
       "4       False        True  "
      ]
     },
     "execution_count": 99,
     "metadata": {},
     "output_type": "execute_result"
    }
   ],
   "source": [
    "df_train.head()"
   ]
  },
  {
   "cell_type": "code",
   "execution_count": 100,
   "metadata": {},
   "outputs": [
    {
     "name": "stdout",
     "output_type": "stream",
     "text": [
      "---Correlation with Survived---\n",
      "Survived       1.000000\n",
      "Fare           0.257307\n",
      "Parch          0.081629\n",
      "Embarked_Q     0.003650\n",
      "PassengerId   -0.005007\n",
      "SibSp         -0.035322\n",
      "Title         -0.060604\n",
      "Embarked_S    -0.149683\n",
      "Pclass        -0.338481\n",
      "Sex_male      -0.543351\n",
      "Name: Survived, dtype: float64\n"
     ]
    }
   ],
   "source": [
    "# Survived와 다른 변수들 간의 상관관계 계산\n",
    "correlation_with_survived = df_train.corr()['Survived'].sort_values(ascending=False)\n",
    "\n",
    "# 상관관계 표 출력\n",
    "print(\"---Correlation with Survived---\")\n",
    "print(correlation_with_survived)\n"
   ]
  },
  {
   "cell_type": "code",
   "execution_count": 101,
   "metadata": {},
   "outputs": [
    {
     "data": {
      "text/html": [
       "<div>\n",
       "<style scoped>\n",
       "    .dataframe tbody tr th:only-of-type {\n",
       "        vertical-align: middle;\n",
       "    }\n",
       "\n",
       "    .dataframe tbody tr th {\n",
       "        vertical-align: top;\n",
       "    }\n",
       "\n",
       "    .dataframe thead th {\n",
       "        text-align: right;\n",
       "    }\n",
       "</style>\n",
       "<table border=\"1\" class=\"dataframe\">\n",
       "  <thead>\n",
       "    <tr style=\"text-align: right;\">\n",
       "      <th></th>\n",
       "      <th>PassengerId</th>\n",
       "      <th>Survived</th>\n",
       "      <th>Pclass</th>\n",
       "      <th>SibSp</th>\n",
       "      <th>Parch</th>\n",
       "      <th>Fare</th>\n",
       "      <th>Title</th>\n",
       "      <th>Sex_male</th>\n",
       "      <th>Embarked_Q</th>\n",
       "      <th>Embarked_S</th>\n",
       "    </tr>\n",
       "  </thead>\n",
       "  <tbody>\n",
       "    <tr>\n",
       "      <th>0</th>\n",
       "      <td>1</td>\n",
       "      <td>0</td>\n",
       "      <td>3</td>\n",
       "      <td>1</td>\n",
       "      <td>0</td>\n",
       "      <td>7.2500</td>\n",
       "      <td>3</td>\n",
       "      <td>True</td>\n",
       "      <td>False</td>\n",
       "      <td>True</td>\n",
       "    </tr>\n",
       "    <tr>\n",
       "      <th>1</th>\n",
       "      <td>2</td>\n",
       "      <td>1</td>\n",
       "      <td>1</td>\n",
       "      <td>1</td>\n",
       "      <td>0</td>\n",
       "      <td>71.2833</td>\n",
       "      <td>4</td>\n",
       "      <td>False</td>\n",
       "      <td>False</td>\n",
       "      <td>False</td>\n",
       "    </tr>\n",
       "    <tr>\n",
       "      <th>2</th>\n",
       "      <td>3</td>\n",
       "      <td>1</td>\n",
       "      <td>3</td>\n",
       "      <td>0</td>\n",
       "      <td>0</td>\n",
       "      <td>7.9250</td>\n",
       "      <td>2</td>\n",
       "      <td>False</td>\n",
       "      <td>False</td>\n",
       "      <td>True</td>\n",
       "    </tr>\n",
       "    <tr>\n",
       "      <th>3</th>\n",
       "      <td>4</td>\n",
       "      <td>1</td>\n",
       "      <td>1</td>\n",
       "      <td>1</td>\n",
       "      <td>0</td>\n",
       "      <td>53.1000</td>\n",
       "      <td>4</td>\n",
       "      <td>False</td>\n",
       "      <td>False</td>\n",
       "      <td>True</td>\n",
       "    </tr>\n",
       "    <tr>\n",
       "      <th>4</th>\n",
       "      <td>5</td>\n",
       "      <td>0</td>\n",
       "      <td>3</td>\n",
       "      <td>0</td>\n",
       "      <td>0</td>\n",
       "      <td>8.0500</td>\n",
       "      <td>3</td>\n",
       "      <td>True</td>\n",
       "      <td>False</td>\n",
       "      <td>True</td>\n",
       "    </tr>\n",
       "  </tbody>\n",
       "</table>\n",
       "</div>"
      ],
      "text/plain": [
       "   PassengerId  Survived  Pclass  SibSp  Parch     Fare  Title  Sex_male  \\\n",
       "0            1         0       3      1      0   7.2500      3      True   \n",
       "1            2         1       1      1      0  71.2833      4     False   \n",
       "2            3         1       3      0      0   7.9250      2     False   \n",
       "3            4         1       1      1      0  53.1000      4     False   \n",
       "4            5         0       3      0      0   8.0500      3      True   \n",
       "\n",
       "   Embarked_Q  Embarked_S  \n",
       "0       False        True  \n",
       "1       False       False  \n",
       "2       False        True  \n",
       "3       False        True  \n",
       "4       False        True  "
      ]
     },
     "execution_count": 101,
     "metadata": {},
     "output_type": "execute_result"
    }
   ],
   "source": [
    "df_train.head()"
   ]
  },
  {
   "cell_type": "markdown",
   "metadata": {},
   "source": [
    "## 지피티가 생각하는 모델- 로지스틱 회귀"
   ]
  },
  {
   "cell_type": "code",
   "execution_count": 38,
   "metadata": {},
   "outputs": [
    {
     "name": "stdout",
     "output_type": "stream",
     "text": [
      "Accuracy: 0.7654\n",
      "Confusion Matrix:\n",
      "[[80 25]\n",
      " [17 57]]\n",
      "Classification Report:\n",
      "              precision    recall  f1-score   support\n",
      "\n",
      "           0       0.82      0.76      0.79       105\n",
      "           1       0.70      0.77      0.73        74\n",
      "\n",
      "    accuracy                           0.77       179\n",
      "   macro avg       0.76      0.77      0.76       179\n",
      "weighted avg       0.77      0.77      0.77       179\n",
      "\n"
     ]
    }
   ],
   "source": [
    "# 필요한 라이브러리 임포트\n",
    "from sklearn.model_selection import train_test_split\n",
    "from sklearn.preprocessing import StandardScaler\n",
    "from sklearn.linear_model import LogisticRegression\n",
    "from sklearn.metrics import accuracy_score, confusion_matrix, classification_report\n",
    "\n",
    "# 특성과 타겟 변수 분리\n",
    "X = df_train[['Pclass', 'Fare', 'Sex_male', 'Embarked_S', 'Embarked_Q']]  # 중요한 변수들만 선택\n",
    "y = df_train['Survived']  # 타겟 변수\n",
    "\n",
    "# 훈련 데이터와 테스트 데이터로 분리\n",
    "X_train, X_val, y_train, y_val = train_test_split(X, y, test_size=0.2, random_state=42)\n",
    "\n",
    "# 특성 데이터 표준화 (로지스틱 회귀는 스케일링에 민감함)\n",
    "scaler = StandardScaler()\n",
    "X_train_scaled = scaler.fit_transform(X_train)\n",
    "X_val_scaled = scaler.transform(X_val)\n",
    "\n",
    "# 로지스틱 회귀 모델 훈련\n",
    "model = LogisticRegression()\n",
    "model.fit(X_train_scaled, y_train)\n",
    "\n",
    "# 예측 및 평가\n",
    "y_pred = model.predict(X_val_scaled)\n",
    "\n",
    "# 정확도 평가\n",
    "accuracy = accuracy_score(y_val, y_pred)\n",
    "conf_matrix = confusion_matrix(y_val, y_pred)\n",
    "class_report = classification_report(y_val, y_pred)\n",
    "\n",
    "# 결과 출력\n",
    "print(f\"Accuracy: {accuracy:.4f}\")\n",
    "print(\"Confusion Matrix:\")\n",
    "print(conf_matrix)\n",
    "print(\"Classification Report:\")\n",
    "print(class_report)\n"
   ]
  },
  {
   "cell_type": "code",
   "execution_count": 37,
   "metadata": {},
   "outputs": [
    {
     "name": "stdout",
     "output_type": "stream",
     "text": [
      "submission.csv 파일이 생성되었습니다.\n"
     ]
    }
   ],
   "source": [
    "# 테스트 데이터에 대해 동일한 전처리 수행 (스케일링)\n",
    "X_test = df_test[['Pclass', 'Fare', 'Sex_male', 'Embarked_S', 'Embarked_Q']]  # 테스트 데이터의 특성 선택\n",
    "X_test_scaled = scaler.transform(X_test)  # 스케일링 적용\n",
    "\n",
    "# 테스트 데이터에 대한 생존 여부 예측\n",
    "test_predictions = model.predict(X_test_scaled)\n",
    "\n",
    "# 결과를 DataFrame으로 생성\n",
    "submission = pd.DataFrame({\n",
    "    'PassengerId': df_test['PassengerId'],  # 승객 번호\n",
    "    'Survived': test_predictions            # 예측된 생존 여부\n",
    "})\n",
    "\n",
    "# CSV 파일로 저장\n",
    "submission.to_csv('submission.csv', index=False)\n",
    "\n",
    "print(\"submission.csv 파일이 생성되었습니다.\")\n"
   ]
  },
  {
   "cell_type": "markdown",
   "metadata": {},
   "source": [
    "## 결정 트리 모델\n"
   ]
  },
  {
   "cell_type": "code",
   "execution_count": 44,
   "metadata": {},
   "outputs": [
    {
     "name": "stdout",
     "output_type": "stream",
     "text": [
      "훈련 데이터 정확도: 0.9091\n"
     ]
    }
   ],
   "source": [
    "from sklearn.tree import DecisionTreeClassifier\n",
    "from sklearn.metrics import accuracy_score\n",
    "\n",
    "# 훈련 데이터 준비\n",
    "X_train = df_train[['Pclass', 'Fare', 'Sex_male', 'Embarked_S', 'Embarked_Q']]  # 훈련 데이터의 특성 선택\n",
    "y_train = df_train['Survived']  # 타겟 변수\n",
    "\n",
    "# 테스트 데이터 준비\n",
    "X_test = df_test[['Pclass', 'Fare', 'Sex_male', 'Embarked_S', 'Embarked_Q']]  # 테스트 데이터의 특성 선택\n",
    "\n",
    "# 결정 트리 모델 생성 및 학습\n",
    "dt_model = DecisionTreeClassifier(random_state=42)  # 결정 트리 모델 생성\n",
    "dt_model.fit(X_train, y_train)  # 모델 학습\n",
    "\n",
    "# 훈련 데이터에 대한 예측\n",
    "train_predictions = dt_model.predict(X_train)\n",
    "\n",
    "# 정확도 출력\n",
    "train_accuracy = accuracy_score(y_train, train_predictions)\n",
    "print(f\"훈련 데이터 정확도: {train_accuracy:.4f}\")\n",
    "\n",
    "# 테스트 데이터 예측\n",
    "test_predictions = dt_model.predict(X_test)\n",
    "\n",
    "\n"
   ]
  },
  {
   "cell_type": "code",
   "execution_count": 46,
   "metadata": {},
   "outputs": [
    {
     "name": "stdout",
     "output_type": "stream",
     "text": [
      "submission_decision_tree.csv 파일이 생성되었습니다.\n"
     ]
    }
   ],
   "source": [
    "# 결과를 DataFrame으로 생성\n",
    "submission = pd.DataFrame({\n",
    "    'PassengerId': df_test['PassengerId'],  # 승객 번호\n",
    "    'Survived': test_predictions            # 예측된 생존 여부\n",
    "})\n",
    "\n",
    "# CSV 파일로 저장\n",
    "submission.to_csv('submission_decision_tree.csv', index=False)\n",
    "\n",
    "print(\"submission_decision_tree.csv 파일이 생성되었습니다.\")\n"
   ]
  },
  {
   "cell_type": "markdown",
   "metadata": {},
   "source": [
    "## 랜덤포레스트"
   ]
  },
  {
   "cell_type": "code",
   "execution_count": 65,
   "metadata": {},
   "outputs": [
    {
     "name": "stdout",
     "output_type": "stream",
     "text": [
      "랜덤 포레스트 - 훈련 데이터 정확도: 0.9091\n"
     ]
    }
   ],
   "source": [
    "from sklearn.ensemble import RandomForestClassifier\n",
    "from sklearn.metrics import accuracy_score\n",
    "\n",
    "# 훈련 데이터 준비\n",
    "X_train = df_train[['Pclass', 'Fare', 'Sex_male', 'Embarked_S', 'Embarked_Q']]  # 훈련 데이터의 특성 선택\n",
    "y_train = df_train['Survived']  # 타겟 변수\n",
    "\n",
    "# 테스트 데이터 준비\n",
    "X_test = df_test[['Pclass', 'Fare', 'Sex_male', 'Embarked_S', 'Embarked_Q']]  # 테스트 데이터의 특성 선택\n",
    "\n",
    "# 랜덤 포레스트 모델 생성 및 학습\n",
    "rf_model = RandomForestClassifier(random_state=42, n_estimators=100)  # 랜덤 포레스트 모델 생성\n",
    "rf_model.fit(X_train, y_train)  # 모델 학습\n",
    "\n",
    "# 훈련 데이터에 대한 예측\n",
    "train_predictions = rf_model.predict(X_train)\n",
    "\n",
    "# 정확도 출력\n",
    "train_accuracy = accuracy_score(y_train, train_predictions)\n",
    "print(f\"랜덤 포레스트 - 훈련 데이터 정확도: {train_accuracy:.4f}\")\n",
    "\n",
    "# 테스트 데이터 예측\n",
    "test_predictions = rf_model.predict(X_test)\n",
    "\n",
    "\n"
   ]
  },
  {
   "cell_type": "code",
   "execution_count": 66,
   "metadata": {},
   "outputs": [
    {
     "name": "stdout",
     "output_type": "stream",
     "text": [
      "submission_random_forest.csv 파일이 생성되었습니다.\n"
     ]
    }
   ],
   "source": [
    "# 결과를 DataFrame으로 생성\n",
    "submission = pd.DataFrame({\n",
    "    'PassengerId': df_test['PassengerId'],  # 승객 번호\n",
    "    'Survived': test_predictions            # 예측된 생존 여부\n",
    "})\n",
    "\n",
    "# CSV 파일로 저장\n",
    "submission.to_csv('submission_random_forest.csv', index=False)\n",
    "\n",
    "print(\"submission_random_forest.csv 파일이 생성되었습니다.\")"
   ]
  },
  {
   "cell_type": "markdown",
   "metadata": {},
   "source": [
    "## 로지스틱 회귀 리트"
   ]
  },
  {
   "cell_type": "code",
   "execution_count": 84,
   "metadata": {},
   "outputs": [
    {
     "name": "stdout",
     "output_type": "stream",
     "text": [
      "로지스틱 회귀 - 훈련 데이터 정확도: 0.7778\n"
     ]
    }
   ],
   "source": [
    "from sklearn.linear_model import LogisticRegression\n",
    "from sklearn.metrics import accuracy_score\n",
    "\n",
    "# 훈련 데이터 준비\n",
    "X_train = df_train[['Pclass', 'Fare', 'Sex_male', 'Embarked_S', 'Embarked_Q']]  # 훈련 데이터의 특성 선택\n",
    "y_train = df_train['Survived']  # 타겟 변수\n",
    "\n",
    "# 테스트 데이터 준비\n",
    "X_test = df_test[['Pclass', 'Fare', 'Sex_male', 'Embarked_S', 'Embarked_Q']]  # 테스트 데이터의 특성 선택\n",
    "\n",
    "# 로지스틱 회귀 모델 생성 및 학습\n",
    "logistic_model = LogisticRegression(random_state=42, max_iter=1000)  # 로지스틱 회귀 모델 생성\n",
    "logistic_model.fit(X_train, y_train)  # 모델 학습\n",
    "\n",
    "# 훈련 데이터에 대한 예측\n",
    "train_predictions = logistic_model.predict(X_train)\n",
    "\n",
    "# 정확도 출력\n",
    "train_accuracy = accuracy_score(y_train, train_predictions)\n",
    "print(f\"로지스틱 회귀 - 훈련 데이터 정확도: {train_accuracy:.4f}\")\n",
    "\n",
    "# 테스트 데이터 예측\n",
    "test_predictions = logistic_model.predict(X_test)\n",
    "\n",
    "\n"
   ]
  },
  {
   "cell_type": "code",
   "execution_count": 85,
   "metadata": {},
   "outputs": [
    {
     "name": "stdout",
     "output_type": "stream",
     "text": [
      "submission_logistic_regression.csv 파일이 생성되었습니다.\n"
     ]
    }
   ],
   "source": [
    "# 결과를 DataFrame으로 생성\n",
    "submission = pd.DataFrame({\n",
    "    'PassengerId': df_test['PassengerId'],  # 승객 번호\n",
    "    'Survived': test_predictions            # 예측된 생존 여부\n",
    "})\n",
    "\n",
    "# CSV 파일로 저장\n",
    "submission.to_csv('submission_logistic_regression.csv', index=False)\n",
    "\n",
    "print(\"submission_logistic_regression.csv 파일이 생성되었습니다.\")"
   ]
  },
  {
   "cell_type": "markdown",
   "metadata": {},
   "source": [
    "## KNN"
   ]
  },
  {
   "cell_type": "code",
   "execution_count": 103,
   "metadata": {},
   "outputs": [
    {
     "name": "stdout",
     "output_type": "stream",
     "text": [
      "KNN - 훈련 데이터 정확도: 0.8395\n"
     ]
    }
   ],
   "source": [
    "from sklearn.neighbors import KNeighborsClassifier\n",
    "from sklearn.metrics import accuracy_score\n",
    "\n",
    "# 훈련 데이터 준비\n",
    "X_train = df_train[['Pclass', 'Fare', 'Sex_male', 'Embarked_S', 'Embarked_Q']]  # 훈련 데이터의 특성 선택\n",
    "y_train = df_train['Survived']  # 타겟 변수\n",
    "\n",
    "# 테스트 데이터 준비\n",
    "X_test = df_test[['Pclass', 'Fare', 'Sex_male', 'Embarked_S', 'Embarked_Q']]  # 테스트 데이터의 특성 선택\n",
    "\n",
    "# KNN 모델 생성 및 학습\n",
    "knn_model = KNeighborsClassifier(n_neighbors=5)  # K=5로 설정\n",
    "knn_model.fit(X_train, y_train)\n",
    "\n",
    "# 훈련 데이터에 대한 예측\n",
    "train_predictions = knn_model.predict(X_train)\n",
    "\n",
    "# 정확도 출력\n",
    "train_accuracy = accuracy_score(y_train, train_predictions)\n",
    "print(f\"KNN - 훈련 데이터 정확도: {train_accuracy:.4f}\")\n",
    "\n",
    "# 테스트 데이터 예측\n",
    "test_predictions = knn_model.predict(X_test)\n",
    "\n",
    "\n"
   ]
  },
  {
   "cell_type": "code",
   "execution_count": 104,
   "metadata": {},
   "outputs": [
    {
     "name": "stdout",
     "output_type": "stream",
     "text": [
      "submission_knn.csv 파일이 생성되었습니다.\n"
     ]
    }
   ],
   "source": [
    "# 결과를 DataFrame으로 생성\n",
    "submission = pd.DataFrame({\n",
    "    'PassengerId': df_test['PassengerId'],  # 승객 번호\n",
    "    'Survived': test_predictions            # 예측된 생존 여부\n",
    "})\n",
    "\n",
    "# CSV 파일로 저장\n",
    "submission.to_csv('submission_knn.csv', index=False)\n",
    "\n",
    "print(\"submission_knn.csv 파일이 생성되었습니다.\")"
   ]
  },
  {
   "cell_type": "markdown",
   "metadata": {},
   "source": [
    "## 앙상블학습 - 결정트리 + 랜덤포레스트"
   ]
  },
  {
   "cell_type": "code",
   "execution_count": 105,
   "metadata": {},
   "outputs": [
    {
     "name": "stdout",
     "output_type": "stream",
     "text": [
      "앙상블 모델 - 훈련 데이터 정확도: 0.9091\n"
     ]
    }
   ],
   "source": [
    "from sklearn.ensemble import RandomForestClassifier\n",
    "from sklearn.tree import DecisionTreeClassifier\n",
    "from sklearn.ensemble import VotingClassifier\n",
    "from sklearn.metrics import accuracy_score\n",
    "\n",
    "# 훈련 데이터 준비\n",
    "X_train = df_train[['Pclass', 'Fare', 'Sex_male', 'Embarked_S', 'Embarked_Q']]\n",
    "y_train = df_train['Survived']\n",
    "\n",
    "# 테스트 데이터 준비\n",
    "X_test = df_test[['Pclass', 'Fare', 'Sex_male', 'Embarked_S', 'Embarked_Q']]\n",
    "\n",
    "# 랜덤 포레스트 모델\n",
    "rf_model = RandomForestClassifier(n_estimators=100, random_state=42)\n",
    "\n",
    "# 결정 트리 모델\n",
    "dt_model = DecisionTreeClassifier(random_state=42)\n",
    "\n",
    "# VotingClassifier로 앙상블 모델 생성\n",
    "ensemble_model = VotingClassifier(\n",
    "    estimators=[\n",
    "        ('random_forest', rf_model),\n",
    "        ('decision_tree', dt_model)\n",
    "    ],\n",
    "    voting='soft'  # 'soft'는 확률 기반 투표, 'hard'는 단순 투표\n",
    ")\n",
    "\n",
    "# 모델 학습\n",
    "ensemble_model.fit(X_train, y_train)\n",
    "\n",
    "# 훈련 데이터에 대한 예측\n",
    "train_predictions = ensemble_model.predict(X_train)\n",
    "\n",
    "# 정확도 출력\n",
    "train_accuracy = accuracy_score(y_train, train_predictions)\n",
    "print(f\"앙상블 모델 - 훈련 데이터 정확도: {train_accuracy:.4f}\")\n",
    "\n",
    "# 테스트 데이터 예측\n",
    "test_predictions = ensemble_model.predict(X_test)\n",
    "\n"
   ]
  },
  {
   "cell_type": "code",
   "execution_count": 106,
   "metadata": {},
   "outputs": [
    {
     "name": "stdout",
     "output_type": "stream",
     "text": [
      "submission_ensemble.csv 파일이 생성되었습니다.\n"
     ]
    }
   ],
   "source": [
    "# 결과를 DataFrame으로 생성\n",
    "submission = pd.DataFrame({\n",
    "    'PassengerId': df_test['PassengerId'],\n",
    "    'Survived': test_predictions\n",
    "})\n",
    "\n",
    "# CSV 파일로 저장\n",
    "submission.to_csv('submission_ensemble.csv', index=False)\n",
    "\n",
    "print(\"submission_ensemble.csv 파일이 생성되었습니다.\")\n"
   ]
  },
  {
   "cell_type": "markdown",
   "metadata": {},
   "source": [
    "## 앙상블학습- 이때까지 만든거 다 짬뽕"
   ]
  },
  {
   "cell_type": "code",
   "execution_count": null,
   "metadata": {},
   "outputs": [],
   "source": [
    "from sklearn.ensemble import RandomForestClassifier, VotingClassifier\n",
    "from sklearn.tree import DecisionTreeClassifier\n",
    "from sklearn.linear_model import LogisticRegression\n",
    "from sklearn.neighbors import KNeighborsClassifier\n",
    "from sklearn.metrics import accuracy_score\n",
    "\n",
    "# 훈련 데이터 준비\n",
    "X_train = df_train[['Pclass', 'Fare', 'Sex_male', 'Embarked_C', 'Embarked_Q']]\n",
    "y_train = df_train['Survived']\n",
    "\n",
    "# 테스트 데이터 준비\n",
    "X_test = df_test[['Pclass', 'Fare', 'Sex_male', 'Embarked_C', 'Embarked_Q']]\n",
    "\n",
    "# 모델 정의\n",
    "rf_model = RandomForestClassifier(n_estimators=100, random_state=42)  # 랜덤 포레스트\n",
    "dt_model = DecisionTreeClassifier(random_state=42)                   # 결정 트리\n",
    "lr_model = LogisticRegression(max_iter=1000, random_state=42)        # 로지스틱 회귀\n",
    "knn_model = KNeighborsClassifier(n_neighbors=5)                      # KNN\n",
    "\n",
    "# VotingClassifier로 앙상블 모델 생성\n",
    "ensemble_model = VotingClassifier(\n",
    "    estimators=[\n",
    "        ('random_forest', rf_model),\n",
    "        ('decision_tree', dt_model),\n",
    "        ('logistic_regression', lr_model),\n",
    "        ('knn', knn_model)\n",
    "    ],\n",
    "    voting='soft'  # 'soft'는 확률 기반 투표, 'hard'는 단순 투표\n",
    ")\n",
    "\n",
    "# 모델 학습\n",
    "ensemble_model.fit(X_train, y_train)\n",
    "\n",
    "# 훈련 데이터에 대한 예측\n",
    "train_predictions = ensemble_model.predict(X_train)\n",
    "\n",
    "# 정확도 출력\n",
    "train_accuracy = accuracy_score(y_train, train_predictions)\n",
    "print(f\"앙상블 모델 - 훈련 데이터 정확도: {train_accuracy:.4f}\")\n",
    "\n",
    "# 테스트 데이터 예측\n",
    "test_predictions = ensemble_model.predict(X_test)\n",
    "\n"
   ]
  },
  {
   "cell_type": "code",
   "execution_count": null,
   "metadata": {},
   "outputs": [],
   "source": [
    "# 결과를 DataFrame으로 생성\n",
    "submission = pd.DataFrame({\n",
    "    'PassengerId': df_test['PassengerId'],\n",
    "    'Survived': test_predictions\n",
    "})\n",
    "\n",
    "# CSV 파일로 저장\n",
    "submission.to_csv('submission_ensemble_all.csv', index=False)\n",
    "\n",
    "print(\"submission_ensemble_all.csv 파일이 생성되었습니다.\")\n"
   ]
  }
 ],
 "metadata": {
  "kernelspec": {
   "display_name": "py3",
   "language": "python",
   "name": "python3"
  },
  "language_info": {
   "codemirror_mode": {
    "name": "ipython",
    "version": 3
   },
   "file_extension": ".py",
   "mimetype": "text/x-python",
   "name": "python",
   "nbconvert_exporter": "python",
   "pygments_lexer": "ipython3",
   "version": "3.12.5"
  }
 },
 "nbformat": 4,
 "nbformat_minor": 2
}
