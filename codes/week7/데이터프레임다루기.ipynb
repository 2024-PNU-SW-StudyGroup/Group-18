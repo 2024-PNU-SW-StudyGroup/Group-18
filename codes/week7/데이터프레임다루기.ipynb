{
 "cells": [
  {
   "cell_type": "code",
   "execution_count": 2,
   "metadata": {},
   "outputs": [],
   "source": [
    "import numpy as np\n",
    "import pandas as pd\n",
    "import copy"
   ]
  },
  {
   "cell_type": "markdown",
   "metadata": {},
   "source": [
    "### 데이터프레임의 데이터 재가공"
   ]
  },
  {
   "cell_type": "code",
   "execution_count": null,
   "metadata": {},
   "outputs": [
    {
     "name": "stdout",
     "output_type": "stream",
     "text": [
      "데이터 재가공 결과:\n",
      "    A   B  A_plus_10   C\n",
      "0  1  10         11  11\n",
      "1  2  20         12  22\n",
      "2  3  30         13  33\n",
      "3  4  40         14  44\n"
     ]
    }
   ],
   "source": [
    "# pandas 의 apply함수를 이용해서 데이터의 재가공 \n",
    "# 예제 데이터프레임\n",
    "df = pd.DataFrame({\n",
    "    'A': [1, 2, 3, 4],\n",
    "    'B': [10, 20, 30, 40]\n",
    "})\n",
    "\n",
    "# 각 값에 10을 더하기\n",
    "df['A_plus_10'] = df['A'].apply(lambda x: x + 10)\n",
    "\n",
    "# 두 열을 더해 새로운 열 C 생성\n",
    "# applay에 들어갈 함수 정의 tip : \n",
    "# 입력param은 데이터프레임이 아니라, 데이터프레임에 저장된 개별 데이터. \n",
    "df['C'] = df.apply(lambda row: row['A'] + row['B'], axis=1)\n",
    "\n",
    "print(\"데이터 재가공 결과:\\n\", df)"
   ]
  },
  {
   "cell_type": "markdown",
   "metadata": {},
   "source": [
    "### 데이터프레임 합치기 및 쪼개기"
   ]
  },
  {
   "cell_type": "code",
   "execution_count": 6,
   "metadata": {},
   "outputs": [
    {
     "name": "stdout",
     "output_type": "stream",
     "text": [
      "foo 데이터프레임:\n",
      "      A  B\n",
      "0  foo  1\n",
      "2  foo  3\n",
      "bar 데이터프레임:\n",
      "      A  B\n",
      "1  bar  2\n",
      "3  bar  4\n",
      "기존 데이터프레임에 다른 데이터프레임 덧붙이기\n",
      "      A  B   A_   B_\n",
      "0  foo  1  1.0  3.0\n",
      "1  bar  2  2.0  4.0\n",
      "2  foo  3  NaN  NaN\n",
      "3  bar  4  NaN  NaN\n",
      "행 방향으로 합친 데이터프레임:\n",
      "    A  B\n",
      "0  1  3\n",
      "1  2  4\n",
      "0  5  7\n",
      "1  6  8\n",
      "열 방향으로 합친 데이터프레임:\n",
      "    A  B  A  B\n",
      "0  1  3  5  7\n",
      "1  2  4  6  8\n"
     ]
    }
   ],
   "source": [
    "# pandas 에서 하나의 데이터프레임에서 여러개로 분리 및 여러 판다스를 하나로 합치기.\n",
    "# 예제 데이터프레임\n",
    "df = pd.DataFrame({\n",
    "    'A': ['foo', 'bar', 'foo', 'bar'],\n",
    "    'B': [1, 2, 3, 4]\n",
    "})\n",
    "\n",
    "# 'A' 열의 값에 따라 그룹으로 분리\n",
    "dfs = dict(tuple(df.groupby('A')))\n",
    "print(\"foo 데이터프레임:\\n\", dfs['foo'])\n",
    "print(\"bar 데이터프레임:\\n\", dfs['bar'])\n",
    "\n",
    "# 예제 데이터프레임 생성\n",
    "df1 = pd.DataFrame({'A': [1, 2], 'B': [3, 4]})\n",
    "df2 = pd.DataFrame({'A': [5, 6], 'B': [7, 8]})\n",
    "\n",
    "# 데이터프레임 덧붙이기.\n",
    "df[['A_','B_']] = df1\n",
    "print(\"기존 데이터프레임에 다른 데이터프레임 덧붙이기\\n\", df)\n",
    "\n",
    "# 행 방향으로 합치기\n",
    "df_concat_rows = pd.concat([df1, df2], axis=0)\n",
    "print(\"행 방향으로 합친 데이터프레임:\\n\", df_concat_rows)\n",
    "\n",
    "# 열 방향으로 합치기\n",
    "df_concat_cols = pd.concat([df1, df2], axis=1)\n",
    "print(\"열 방향으로 합친 데이터프레임:\\n\", df_concat_cols)\n"
   ]
  },
  {
   "cell_type": "markdown",
   "metadata": {},
   "source": [
    "#### 데이터 쪼개기!!"
   ]
  },
  {
   "cell_type": "code",
   "execution_count": null,
   "metadata": {},
   "outputs": [
    {
     "name": "stdout",
     "output_type": "stream",
     "text": [
      "수치형 데이터프레임:\n",
      "    A    C\n",
      "0  1  1.5\n",
      "1  2  2.5\n",
      "2  3  3.5\n",
      "3  4  4.5\n",
      "\n",
      "비수치형 데이터프레임:\n",
      "      B       D\n",
      "0  foo   apple\n",
      "1  bar  banana\n",
      "2  baz  cherry\n",
      "3  qux    date\n"
     ]
    }
   ],
   "source": [
    "# 예제 데이터프레임 생성\n",
    "df = pd.DataFrame({\n",
    "    'A': [1, 2, 3, 4],          # 수치형 데이터\n",
    "    'B': ['foo', 'bar', 'baz', 'qux'],  # 문자열 데이터 (비수치형)\n",
    "    'C': [1.5, 2.5, 3.5, 4.5],  # 수치형 데이터\n",
    "    'D': ['apple', 'banana', 'cherry', 'date']  # 문자열 데이터 (비수치형)\n",
    "})\n",
    "\n",
    "# 수치형 데이터만 선택\n",
    "numeric_df = df.select_dtypes(include=['number'])\n",
    "print(\"수치형 데이터프레임:\\n\", numeric_df)\n",
    "\n",
    "df_c = copy.copy(df['C'])\n",
    "\n",
    "# 비수치형 데이터만 선택\n",
    "non_numeric_df = df.select_dtypes(exclude=['number'])\n",
    "print(\"\\n비수치형 데이터프레임:\\n\", non_numeric_df)"
   ]
  },
  {
   "cell_type": "markdown",
   "metadata": {},
   "source": [
    "### 배열 - 넘파이 - 데이터프레임 "
   ]
  },
  {
   "cell_type": "code",
   "execution_count": 8,
   "metadata": {},
   "outputs": [],
   "source": [
    "# 넘파이나, 배열을 데이터프레임으로 만들기, 또는 데이터 프레임을 배열이나, 넘파이로 만들기.\n",
    "\n",
    "# 넘파이 배열 생성\n",
    "array = np.array([[1, 2, 3], [4, 5, 6]])\n",
    "\n",
    "# 데이터프레임으로 변환\n",
    "df_from_array = pd.DataFrame(array, columns=['A', 'B', 'C'])\n",
    "\n",
    "# 데이터프레임을 넘파이 배열로 변환\n",
    "array_from_df = df_from_array.to_numpy()"
   ]
  }
 ],
 "metadata": {
  "kernelspec": {
   "display_name": "machine_learning",
   "language": "python",
   "name": "python3"
  },
  "language_info": {
   "codemirror_mode": {
    "name": "ipython",
    "version": 3
   },
   "file_extension": ".py",
   "mimetype": "text/x-python",
   "name": "python",
   "nbconvert_exporter": "python",
   "pygments_lexer": "ipython3",
   "version": "3.9.19"
  }
 },
 "nbformat": 4,
 "nbformat_minor": 2
}
